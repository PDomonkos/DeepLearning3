{
 "cells": [
  {
   "cell_type": "code",
   "execution_count": 1,
   "metadata": {
    "scrolled": true
   },
   "outputs": [
    {
     "data": {
      "text/html": [
       "<div>\n",
       "<style scoped>\n",
       "    .dataframe tbody tr th:only-of-type {\n",
       "        vertical-align: middle;\n",
       "    }\n",
       "\n",
       "    .dataframe tbody tr th {\n",
       "        vertical-align: top;\n",
       "    }\n",
       "\n",
       "    .dataframe thead th {\n",
       "        text-align: right;\n",
       "    }\n",
       "</style>\n",
       "<table border=\"1\" class=\"dataframe\">\n",
       "  <thead>\n",
       "    <tr style=\"text-align: right;\">\n",
       "      <th></th>\n",
       "      <th>date</th>\n",
       "      <th>17max</th>\n",
       "      <th>17min</th>\n",
       "      <th>18max</th>\n",
       "      <th>18min</th>\n",
       "      <th>19max</th>\n",
       "      <th>19min</th>\n",
       "    </tr>\n",
       "  </thead>\n",
       "  <tbody>\n",
       "    <tr>\n",
       "      <th>0</th>\n",
       "      <td>1. 1.</td>\n",
       "      <td>-1.6</td>\n",
       "      <td>-6.0</td>\n",
       "      <td>6.4</td>\n",
       "      <td>1.3</td>\n",
       "      <td>2.7</td>\n",
       "      <td>-4.6</td>\n",
       "    </tr>\n",
       "    <tr>\n",
       "      <th>1</th>\n",
       "      <td>1. 2.</td>\n",
       "      <td>-0.5</td>\n",
       "      <td>-4.8</td>\n",
       "      <td>8.2</td>\n",
       "      <td>3.9</td>\n",
       "      <td>3.1</td>\n",
       "      <td>-0.7</td>\n",
       "    </tr>\n",
       "    <tr>\n",
       "      <th>2</th>\n",
       "      <td>1. 3.</td>\n",
       "      <td>4.2</td>\n",
       "      <td>-0.7</td>\n",
       "      <td>6.9</td>\n",
       "      <td>3.1</td>\n",
       "      <td>0.3</td>\n",
       "      <td>-3.3</td>\n",
       "    </tr>\n",
       "    <tr>\n",
       "      <th>3</th>\n",
       "      <td>1. 4.</td>\n",
       "      <td>4.3</td>\n",
       "      <td>-0.9</td>\n",
       "      <td>12.4</td>\n",
       "      <td>4.6</td>\n",
       "      <td>-1.0</td>\n",
       "      <td>-6.3</td>\n",
       "    </tr>\n",
       "    <tr>\n",
       "      <th>4</th>\n",
       "      <td>1. 5.</td>\n",
       "      <td>3.1</td>\n",
       "      <td>-4.2</td>\n",
       "      <td>10.5</td>\n",
       "      <td>5.3</td>\n",
       "      <td>2.2</td>\n",
       "      <td>-3.2</td>\n",
       "    </tr>\n",
       "  </tbody>\n",
       "</table>\n",
       "</div>"
      ],
      "text/plain": [
       "    date  17max  17min  18max  18min  19max  19min\n",
       "0  1. 1.   -1.6   -6.0    6.4    1.3    2.7   -4.6\n",
       "1  1. 2.   -0.5   -4.8    8.2    3.9    3.1   -0.7\n",
       "2  1. 3.    4.2   -0.7    6.9    3.1    0.3   -3.3\n",
       "3  1. 4.    4.3   -0.9   12.4    4.6   -1.0   -6.3\n",
       "4  1. 5.    3.1   -4.2   10.5    5.3    2.2   -3.2"
      ]
     },
     "execution_count": 1,
     "metadata": {},
     "output_type": "execute_result"
    }
   ],
   "source": [
    "import pandas as pd\n",
    "\n",
    "# read the csv file and define the columns\n",
    "# The columns wil be: \n",
    "#   date: days in one year (in the format of: mm.dd.)  \n",
    "#   17max: max temperature in the days of 2017\n",
    "#   17min: min temperature in the days of 2017 \n",
    "#   18max: max temperature in the days of 2018 ...\n",
    "df = pd.read_csv('temp.csv', sep=';', header=None)\n",
    "df.columns = ['date','17max','17min','18max','18min','19max','19min']\n",
    "# convert the temperatures from string to float (from \"-0,4\" to \"-0.4\" and finally -0.4)\n",
    "df['17max'] = df['17max'].str.replace(',','.').astype(float)\n",
    "df['17min'] = df['17min'].str.replace(',','.').astype(float)\n",
    "df['18max'] = df['18max'].str.replace(',','.').astype(float)\n",
    "df['18min'] = df['18min'].str.replace(',','.').astype(float)\n",
    "df['19max'] = df['19max'].str.replace(',','.').astype(float)\n",
    "df['19min'] = df['19min'].str.replace(',','.').astype(float)\n",
    "\n",
    "# print the head of the dataframe\n",
    "# for example the maximum temperature was -0.5 °C in 2017.01.02., in 2019.01.03. the minimum temperature was -3.3 °C\n",
    "df.head()"
   ]
  },
  {
   "cell_type": "code",
   "execution_count": 2,
   "metadata": {},
   "outputs": [
    {
     "name": "stdout",
     "output_type": "stream",
     "text": [
      "(648, 568)\n",
      "(648, 2)\n"
     ]
    }
   ],
   "source": [
    "# I'll train my network to predict minimum and maximum temperature in a day, (the mean will be the mean of theese two)\n",
    "# based on the temperatures a year before, and on the previous n days\n",
    "# so for example:\n",
    "#    if the current Y (that we want to predict) is 2018.05.06. max and min temperature, and the n is 2 \n",
    "#    then the X is: 2017.05.06. , 2018.05.04., 2018.05.05. max and min temperature \n",
    "import numpy as np\n",
    "np.random.seed(123)\n",
    "\n",
    "# in 2019 we have only data till 10.10.\n",
    "dataSizeIn2019 = df.iloc[:,5].dropna(axis=0).shape[0]\n",
    "\n",
    "# previous n days, i choose it relatively big\n",
    "##################### \n",
    "# it has a great effect on the training, \n",
    "# if it is small the network can reach low test and train loss, \n",
    "# but it wont be able to predict future temperatures\n",
    "#####################\n",
    "prevDays = dataSizeIn2019\n",
    "\n",
    "# with this dataset we can train on the temperatures from 2018.01.01 to 2019.10.10.\n",
    "Ymax = np.concatenate((df.iloc[:,3], df.iloc[:dataSizeIn2019,5]), axis=None)\n",
    "Ymin = np.concatenate((df.iloc[:,4], df.iloc[:dataSizeIn2019,6]), axis=None)\n",
    "\n",
    "# we add the last year temperatures to X\n",
    "Xmax = np.concatenate((df.iloc[:,1], df.iloc[:dataSizeIn2019,3]), axis=None)\n",
    "Xmin = np.concatenate((df.iloc[:,2], df.iloc[:dataSizeIn2019,4]), axis=None)\n",
    "\n",
    "# we add the temperatures of the previous n day to X\n",
    "for i in range(prevDays, 0, -1):\n",
    "    maxDayBefore = np.concatenate((df.iloc[-i:,1], df.iloc[:,3], df.iloc[:dataSizeIn2019-i,5]), axis=None)\n",
    "    minDayBefore = np.concatenate((df.iloc[-i:,2], df.iloc[:,4], df.iloc[:dataSizeIn2019-i,6]), axis=None)\n",
    "    Xmax = np.vstack((Xmax, maxDayBefore))\n",
    "    Xmin = np.vstack((Xmin, minDayBefore))\n",
    "\n",
    "# we stack the min and max together\n",
    "X = np.vstack((Xmax, Xmin)).T\n",
    "Y = np.vstack((Ymax, Ymin)).T\n",
    "\n",
    "# so we have 648 data tuples\n",
    "print(X.shape)\n",
    "print(Y.shape)"
   ]
  },
  {
   "cell_type": "code",
   "execution_count": 3,
   "metadata": {},
   "outputs": [
    {
     "name": "stdout",
     "output_type": "stream",
     "text": [
      "TRAIN mean es std: -2.2843055336129825e-16 1.0\n",
      "VALID mean es std: -0.02518027449468362 1.0028278139368312\n",
      "TEST mean es std: -0.003751922932698914 1.0035494102426454\n"
     ]
    }
   ],
   "source": [
    "from sklearn.preprocessing import StandardScaler\n",
    "\n",
    "# shuffle the data \n",
    "# without shuffling we will validate and test on only one or two months data, hence the temperatures will be close to each other\n",
    "indices = np.random.permutation(X.shape[0])\n",
    "Xshuf, Yshuf = X[indices], Y[indices]\n",
    "\n",
    "# separate the train, validation and test data\n",
    "valid_split=0.2\n",
    "test_split=0.1\n",
    "X_train = Xshuf[0:int(Xshuf.shape[0]*(1-valid_split-test_split))]\n",
    "Y_train = Yshuf[0:int(Xshuf.shape[0]*(1-valid_split-test_split))]\n",
    "X_valid = Xshuf[int(Xshuf.shape[0]*(1-valid_split-test_split)):int(Xshuf.shape[0]*(1-test_split))]\n",
    "Y_valid = Yshuf[int(Xshuf.shape[0]*(1-valid_split-test_split)):int(Xshuf.shape[0]*(1-test_split))]\n",
    "X_test  = Xshuf[int(Xshuf.shape[0]*(1-test_split)):]\n",
    "Y_test  = Yshuf[int(Xshuf.shape[0]*(1-test_split)):]\n",
    "\n",
    "# standardize them\n",
    "scaler = StandardScaler().fit(X_train)\n",
    "X_train = scaler.transform(X_train)\n",
    "X_valid = scaler.transform(X_valid)\n",
    "X_test  = scaler.transform(X_test)\n",
    "\n",
    "# see if the datasets have mean close to 0 and deviance close to 1\n",
    "# if we shuffle the data, the means an deviances will be close to each other\n",
    "print(\"TRAIN mean es std:\",np.mean(X_train), np.std(X_train))\n",
    "print(\"VALID mean es std:\",np.mean(X_valid), np.std(X_valid))\n",
    "print(\"TEST mean es std:\",np.mean(X_test), np.std(X_test))"
   ]
  },
  {
   "cell_type": "code",
   "execution_count": 13,
   "metadata": {},
   "outputs": [],
   "source": [
    "from keras.models import Sequential, load_model\n",
    "from keras.layers import Dense, Dropout, Activation, GaussianNoise\n",
    "from keras.callbacks import EarlyStopping, ModelCheckpoint\n",
    "from keras.optimizers import Adam\n",
    "\n",
    "# the early stopping, and the best model saver callback\n",
    "es = EarlyStopping(patience=10, verbose=1)\n",
    "mcp = ModelCheckpoint(filepath='model_boston.hdf5', save_best_only=True, verbose=1)\n",
    "\n",
    "# Sequential keras model with linear activation on the output, becouse we have to predict temperatures\n",
    "# it has dropout in the input layer to prevent overfitting\n",
    "model = Sequential()\n",
    " \n",
    "model.add(Dense(256, input_dim = Xshuf.shape[1], activation='sigmoid'))\n",
    "model.add(Dropout(0.5))\n",
    "model.add(Dense(64, activation='sigmoid'))\n",
    "model.add(Dropout(0.5))\n",
    "model.add(Dense(2))\n",
    "\n",
    "# the model will use Adam optimizer with 0.01 learning rate, and mean squared error loss function\n",
    "adam = Adam(lr=0.01)\n",
    "model.compile(loss='mse', optimizer=adam)"
   ]
  },
  {
   "cell_type": "code",
   "execution_count": 5,
   "metadata": {
    "scrolled": true
   },
   "outputs": [
    {
     "name": "stdout",
     "output_type": "stream",
     "text": [
      "WARNING:tensorflow:From C:\\Conda\\envs\\Tensorflow-GPU\\lib\\site-packages\\tensorflow\\python\\ops\\math_ops.py:3066: to_int32 (from tensorflow.python.ops.math_ops) is deprecated and will be removed in a future version.\n",
      "Instructions for updating:\n",
      "Use tf.cast instead.\n",
      "Train on 453 samples, validate on 130 samples\n",
      "Epoch 1/1000000000\n",
      "453/453 [==============================] - 4s 9ms/step - loss: 124.2633 - val_loss: 56.2544\n",
      "\n",
      "Epoch 00001: val_loss improved from inf to 56.25440, saving model to model_boston.hdf5\n",
      "Epoch 2/1000000000\n",
      "453/453 [==============================] - 0s 892us/step - loss: 27.5019 - val_loss: 27.4169\n",
      "\n",
      "Epoch 00002: val_loss improved from 56.25440 to 27.41694, saving model to model_boston.hdf5\n",
      "Epoch 3/1000000000\n",
      "453/453 [==============================] - 0s 917us/step - loss: 22.1683 - val_loss: 25.3834\n",
      "\n",
      "Epoch 00003: val_loss improved from 27.41694 to 25.38337, saving model to model_boston.hdf5\n",
      "Epoch 4/1000000000\n",
      "453/453 [==============================] - 0s 935us/step - loss: 17.4516 - val_loss: 23.1190\n",
      "\n",
      "Epoch 00004: val_loss improved from 25.38337 to 23.11900, saving model to model_boston.hdf5\n",
      "Epoch 5/1000000000\n",
      "453/453 [==============================] - 0s 904us/step - loss: 19.7214 - val_loss: 22.8826\n",
      "\n",
      "Epoch 00005: val_loss improved from 23.11900 to 22.88264, saving model to model_boston.hdf5\n",
      "Epoch 6/1000000000\n",
      "453/453 [==============================] - 0s 892us/step - loss: 16.8357 - val_loss: 22.1316\n",
      "\n",
      "Epoch 00006: val_loss improved from 22.88264 to 22.13161, saving model to model_boston.hdf5\n",
      "Epoch 7/1000000000\n",
      "453/453 [==============================] - 0s 896us/step - loss: 16.5504 - val_loss: 21.3758\n",
      "\n",
      "Epoch 00007: val_loss improved from 22.13161 to 21.37582, saving model to model_boston.hdf5\n",
      "Epoch 8/1000000000\n",
      "453/453 [==============================] - 0s 888us/step - loss: 16.9759 - val_loss: 22.7540\n",
      "\n",
      "Epoch 00008: val_loss did not improve from 21.37582\n",
      "Epoch 9/1000000000\n",
      "453/453 [==============================] - 0s 935us/step - loss: 17.8203 - val_loss: 20.0417\n",
      "\n",
      "Epoch 00009: val_loss improved from 21.37582 to 20.04171, saving model to model_boston.hdf5\n",
      "Epoch 10/1000000000\n",
      "453/453 [==============================] - 0s 904us/step - loss: 16.9362 - val_loss: 19.2924\n",
      "\n",
      "Epoch 00010: val_loss improved from 20.04171 to 19.29237, saving model to model_boston.hdf5\n",
      "Epoch 11/1000000000\n",
      "453/453 [==============================] - 0s 918us/step - loss: 16.0914 - val_loss: 19.8868\n",
      "\n",
      "Epoch 00011: val_loss did not improve from 19.29237\n",
      "Epoch 12/1000000000\n",
      "453/453 [==============================] - 0s 919us/step - loss: 16.1996 - val_loss: 20.9824\n",
      "\n",
      "Epoch 00012: val_loss did not improve from 19.29237\n",
      "Epoch 13/1000000000\n",
      "453/453 [==============================] - 0s 929us/step - loss: 18.3639 - val_loss: 21.0985\n",
      "\n",
      "Epoch 00013: val_loss did not improve from 19.29237\n",
      "Epoch 14/1000000000\n",
      "453/453 [==============================] - 0s 933us/step - loss: 16.0138 - val_loss: 18.4168\n",
      "\n",
      "Epoch 00014: val_loss improved from 19.29237 to 18.41677, saving model to model_boston.hdf5\n",
      "Epoch 15/1000000000\n",
      "453/453 [==============================] - 0s 936us/step - loss: 15.2409 - val_loss: 18.7176\n",
      "\n",
      "Epoch 00015: val_loss did not improve from 18.41677\n",
      "Epoch 16/1000000000\n",
      "453/453 [==============================] - 0s 941us/step - loss: 15.8950 - val_loss: 20.0326\n",
      "\n",
      "Epoch 00016: val_loss did not improve from 18.41677\n",
      "Epoch 17/1000000000\n",
      "453/453 [==============================] - 0s 922us/step - loss: 14.8487 - val_loss: 18.4484\n",
      "\n",
      "Epoch 00017: val_loss did not improve from 18.41677\n",
      "Epoch 18/1000000000\n",
      "453/453 [==============================] - 0s 908us/step - loss: 14.9275 - val_loss: 18.7393\n",
      "\n",
      "Epoch 00018: val_loss did not improve from 18.41677\n",
      "Epoch 19/1000000000\n",
      "453/453 [==============================] - 0s 944us/step - loss: 15.2099 - val_loss: 19.2136\n",
      "\n",
      "Epoch 00019: val_loss did not improve from 18.41677\n",
      "Epoch 20/1000000000\n",
      "453/453 [==============================] - 0s 899us/step - loss: 15.3444 - val_loss: 18.9894\n",
      "\n",
      "Epoch 00020: val_loss did not improve from 18.41677\n",
      "Epoch 21/1000000000\n",
      "453/453 [==============================] - 0s 909us/step - loss: 15.6793 - val_loss: 18.0990\n",
      "\n",
      "Epoch 00021: val_loss improved from 18.41677 to 18.09901, saving model to model_boston.hdf5\n",
      "Epoch 22/1000000000\n",
      "453/453 [==============================] - 0s 917us/step - loss: 15.8215 - val_loss: 18.2537\n",
      "\n",
      "Epoch 00022: val_loss did not improve from 18.09901\n",
      "Epoch 23/1000000000\n",
      "453/453 [==============================] - 0s 949us/step - loss: 14.5416 - val_loss: 21.6427\n",
      "\n",
      "Epoch 00023: val_loss did not improve from 18.09901\n",
      "Epoch 24/1000000000\n",
      "453/453 [==============================] - 0s 899us/step - loss: 14.7535 - val_loss: 18.3108\n",
      "\n",
      "Epoch 00024: val_loss did not improve from 18.09901\n",
      "Epoch 25/1000000000\n",
      "453/453 [==============================] - 0s 932us/step - loss: 14.7258 - val_loss: 18.2975\n",
      "\n",
      "Epoch 00025: val_loss did not improve from 18.09901\n",
      "Epoch 26/1000000000\n",
      "453/453 [==============================] - 0s 898us/step - loss: 14.8255 - val_loss: 18.2753\n",
      "\n",
      "Epoch 00026: val_loss did not improve from 18.09901\n",
      "Epoch 27/1000000000\n",
      "453/453 [==============================] - 0s 966us/step - loss: 14.1721 - val_loss: 17.0213\n",
      "\n",
      "Epoch 00027: val_loss improved from 18.09901 to 17.02130, saving model to model_boston.hdf5\n",
      "Epoch 28/1000000000\n",
      "453/453 [==============================] - 0s 903us/step - loss: 13.5947 - val_loss: 16.3464\n",
      "\n",
      "Epoch 00028: val_loss improved from 17.02130 to 16.34641, saving model to model_boston.hdf5\n",
      "Epoch 29/1000000000\n",
      "453/453 [==============================] - 0s 920us/step - loss: 13.8441 - val_loss: 18.1863\n",
      "\n",
      "Epoch 00029: val_loss did not improve from 16.34641\n",
      "Epoch 30/1000000000\n",
      "453/453 [==============================] - 0s 933us/step - loss: 13.7060 - val_loss: 16.1251\n",
      "\n",
      "Epoch 00030: val_loss improved from 16.34641 to 16.12510, saving model to model_boston.hdf5\n",
      "Epoch 31/1000000000\n",
      "453/453 [==============================] - 0s 955us/step - loss: 15.2268 - val_loss: 17.2197\n",
      "\n",
      "Epoch 00031: val_loss did not improve from 16.12510\n",
      "Epoch 32/1000000000\n",
      "453/453 [==============================] - 0s 943us/step - loss: 13.4801 - val_loss: 16.5457\n",
      "\n",
      "Epoch 00032: val_loss did not improve from 16.12510\n",
      "Epoch 33/1000000000\n",
      "453/453 [==============================] - 0s 930us/step - loss: 13.8686 - val_loss: 18.3120\n",
      "\n",
      "Epoch 00033: val_loss did not improve from 16.12510\n",
      "Epoch 34/1000000000\n",
      "453/453 [==============================] - 0s 917us/step - loss: 15.6355 - val_loss: 17.7453\n",
      "\n",
      "Epoch 00034: val_loss did not improve from 16.12510\n",
      "Epoch 35/1000000000\n",
      "453/453 [==============================] - 0s 954us/step - loss: 14.7213 - val_loss: 17.2769\n",
      "\n",
      "Epoch 00035: val_loss did not improve from 16.12510\n",
      "Epoch 36/1000000000\n",
      "453/453 [==============================] - 0s 953us/step - loss: 13.1842 - val_loss: 16.2169\n",
      "\n",
      "Epoch 00036: val_loss did not improve from 16.12510\n",
      "Epoch 37/1000000000\n",
      "453/453 [==============================] - 0s 932us/step - loss: 13.8052 - val_loss: 15.2496\n",
      "\n",
      "Epoch 00037: val_loss improved from 16.12510 to 15.24961, saving model to model_boston.hdf5\n",
      "Epoch 38/1000000000\n",
      "453/453 [==============================] - 0s 945us/step - loss: 13.6718 - val_loss: 16.7079\n",
      "\n",
      "Epoch 00038: val_loss did not improve from 15.24961\n",
      "Epoch 39/1000000000\n",
      "453/453 [==============================] - 0s 932us/step - loss: 13.8947 - val_loss: 16.2532\n",
      "\n",
      "Epoch 00039: val_loss did not improve from 15.24961\n",
      "Epoch 40/1000000000\n",
      "453/453 [==============================] - 0s 936us/step - loss: 13.0602 - val_loss: 16.5340\n",
      "\n",
      "Epoch 00040: val_loss did not improve from 15.24961\n",
      "Epoch 41/1000000000\n",
      "453/453 [==============================] - 0s 944us/step - loss: 14.4178 - val_loss: 16.8652\n",
      "\n",
      "Epoch 00041: val_loss did not improve from 15.24961\n",
      "Epoch 42/1000000000\n",
      "453/453 [==============================] - 0s 905us/step - loss: 14.0679 - val_loss: 16.0091\n",
      "\n",
      "Epoch 00042: val_loss did not improve from 15.24961\n",
      "Epoch 43/1000000000\n",
      "453/453 [==============================] - 0s 936us/step - loss: 14.0262 - val_loss: 15.3084\n",
      "\n",
      "Epoch 00043: val_loss did not improve from 15.24961\n",
      "Epoch 44/1000000000\n",
      "453/453 [==============================] - 0s 931us/step - loss: 13.5420 - val_loss: 16.2784\n",
      "\n",
      "Epoch 00044: val_loss did not improve from 15.24961\n",
      "Epoch 45/1000000000\n"
     ]
    },
    {
     "name": "stdout",
     "output_type": "stream",
     "text": [
      "453/453 [==============================] - 0s 880us/step - loss: 13.5731 - val_loss: 17.2549\n",
      "\n",
      "Epoch 00045: val_loss did not improve from 15.24961\n",
      "Epoch 46/1000000000\n",
      "453/453 [==============================] - 0s 933us/step - loss: 14.2002 - val_loss: 16.8360\n",
      "\n",
      "Epoch 00046: val_loss did not improve from 15.24961\n",
      "Epoch 47/1000000000\n",
      "453/453 [==============================] - 0s 886us/step - loss: 13.2683 - val_loss: 16.1614\n",
      "\n",
      "Epoch 00047: val_loss did not improve from 15.24961\n",
      "Epoch 00047: early stopping\n"
     ]
    },
    {
     "data": {
      "text/plain": [
       "<keras.callbacks.History at 0x18a072a69b0>"
      ]
     },
     "execution_count": 5,
     "metadata": {},
     "output_type": "execute_result"
    }
   ],
   "source": [
    "# train the network on training data, validate on validation data\n",
    "# we use early stopping, hence the big epoch size (it will stop when needed)\n",
    "# The dataset is relatively small, so I've chosen 8 as batch size\n",
    "model.fit(X_train, Y_train,\n",
    "          validation_data=(X_valid,Y_valid),\n",
    "          epochs=1000000000,\n",
    "          batch_size=8,\n",
    "          callbacks=[mcp,es])"
   ]
  },
  {
   "cell_type": "code",
   "execution_count": 6,
   "metadata": {},
   "outputs": [
    {
     "name": "stdout",
     "output_type": "stream",
     "text": [
      "65/65 [==============================] - 0s 1ms/step\n",
      "test MSE:  10.79776216653677\n"
     ]
    }
   ],
   "source": [
    "# load the best model, and print it's error with the test data\n",
    "# so if the MSE is about 9, then the model predictions differ 3 °C on average from the original temperature\n",
    "model = load_model('model_boston.hdf5')\n",
    "test_err = model.evaluate(X_test, Y_test)\n",
    "print(\"test MSE: \",test_err)"
   ]
  },
  {
   "cell_type": "code",
   "execution_count": 7,
   "metadata": {},
   "outputs": [
    {
     "data": {
      "text/plain": [
       "[(-8, 35), (-8, 35)]"
      ]
     },
     "execution_count": 7,
     "metadata": {},
     "output_type": "execute_result"
    }
   ],
   "source": [
    "import matplotlib.pyplot as plt\n",
    "import seaborn as sns\n",
    "\n",
    "# plot the actual and the predicted minimum temperatures in the test dataset\n",
    "plt.figure(figsize=(10,10))\n",
    "minPreds = model.predict(X_test)[:,1]\n",
    "sns.regplot(Y_test[:,1], minPreds.reshape(-1)).set(xlim=(-10,25), ylim=(-10,25))\n",
    "# ant plot the maximum\n",
    "plt.figure(figsize=(10,10))\n",
    "maxPreds = model.predict(X_test)[:,0]\n",
    "sns.regplot(Y_test[:,0], maxPreds.reshape(-1)).set(xlim=(-8,35), ylim=(-8,35))\n"
   ]
  },
  {
   "cell_type": "code",
   "execution_count": 8,
   "metadata": {},
   "outputs": [
    {
     "data": {
      "image/png": "[encoded data removed]",
      "text/plain": [
       "<Figure size 432x288 with 1 Axes>"
      ]
     },
     "metadata": {
      "needs_background": "light"
     },
     "output_type": "display_data"
    }
   ],
   "source": [
    "# for example 2018 february:\n",
    "#   blue line is the actual minimum temperature\n",
    "#   orange one is the predicted\n",
    "\n",
    "#####################\n",
    "# if we choose n (the days before) to be small (for example 3) , the shape of the predicted data would be similar to the actual\n",
    "# if we choose it big, then it will be close to the mean\n",
    "#####################\n",
    "\n",
    "febrPreds = model.predict(X)[31:59,1]\n",
    "febr = Y[31:59,1]\n",
    "\n",
    "plt.plot(range(1,29),febr)\n",
    "plt.plot(range(1,29),febrPreds)\n",
    "plt.ylabel('february min. temp.')\n",
    "plt.xticks(range(1,29,5),df.iloc[range(31,59,5),0])\n",
    "plt.xlabel('days')\n",
    "plt.show()"
   ]
  },
  {
   "cell_type": "code",
   "execution_count": 9,
   "metadata": {},
   "outputs": [],
   "source": [
    "# get the inputs to predict the temperature in the given day in 2019\n",
    "def getX(day):\n",
    "    # get the maximum and minumum temperature at the given day in 2018\n",
    "    Xmax = df.iloc[day,3]\n",
    "    Xmin = df.iloc[day,4]\n",
    "\n",
    "    # we add the temperatures of the previous n day in 2019 to X\n",
    "    for i in range(prevDays, 0, -1):\n",
    "        maxDayBefore = df.iloc[day-i,5]\n",
    "        minDayBefore = df.iloc[day-i,6]\n",
    "        Xmax = np.vstack((Xmax, maxDayBefore))\n",
    "        Xmin = np.vstack((Xmin, minDayBefore))       \n",
    "\n",
    "    # we stack the min and max together\n",
    "    X = np.vstack((Xmax, Xmin)).T\n",
    "    \n",
    "    return X"
   ]
  },
  {
   "cell_type": "code",
   "execution_count": 10,
   "metadata": {},
   "outputs": [],
   "source": [
    "# itarete through the remaining days of 2019:\n",
    "#    predict each temperature, and store them in the dataframe, so we can predict the next one\n",
    "\n",
    "for d in range(dataSizeIn2019, 365):\n",
    "    x = getX(d)\n",
    "    preds = model.predict(x)\n",
    "    df.iloc[d,5] = preds[0,0]\n",
    "    df.iloc[d,6] = preds[0,1]      "
   ]
  },
  {
   "cell_type": "code",
   "execution_count": 11,
   "metadata": {},
   "outputs": [
    {
     "data": {
      "image/png": "[encoded data removed]",
      "text/plain": [
       "<Figure size 432x288 with 1 Axes>"
      ]
     },
     "metadata": {
      "needs_background": "light"
     },
     "output_type": "display_data"
    }
   ],
   "source": [
    "# plot the temperatures in 2019 (from 10.10. the predicted ones)\n",
    "# orange=max, blue=mean, green=average\n",
    "#####################\n",
    "# if we choose n big, then it can predict the future temperatures quite well, otherwise it can't\n",
    "#####################\n",
    "maxT = df.iloc[0:365,5]\n",
    "minT = df.iloc[0:365,6]\n",
    "avg = (maxT+minT)/2\n",
    "plt.plot(range(0,365),minT)\n",
    "plt.plot(range(0,365),maxT)\n",
    "plt.plot(range(0,365),avg)\n",
    "plt.ylabel('prediction')\n",
    "plt.xticks(range(0,365,50),df.iloc[range(0,365,50),0])\n",
    "plt.xlabel('days')\n",
    "plt.show()"
   ]
  },
  {
   "cell_type": "code",
   "execution_count": 12,
   "metadata": {},
   "outputs": [
    {
     "name": "stdout",
     "output_type": "stream",
     "text": [
      "Predicted temperatures in october 30.: Max: 10.393692016601562, Min: 4.967970371246338, Avg: 7.68083119392395\n",
      "Predicted temperatures in movember 1.: Max: 9.888849258422852, Min: 4.854878902435303, Avg: 7.371864080429077\n",
      "Predicted temperatures in november 22.: Max: 2.957486867904663, Min: -0.678295373916626, Avg: 1.1395957469940186\n"
     ]
    }
   ],
   "source": [
    "#october 30. = 302\n",
    "#november 1. = 304\n",
    "#november 22. = 325\n",
    "\n",
    "#print the predicted temperatures at the given days\n",
    "def printTemp(d,ma,mi,a):\n",
    "    print('Predicted temperatures in '+ d +': Max: '+ str(ma) +', Min: '+ str(mi) +', Avg: '+ str(a))\n",
    "    \n",
    "printTemp(\"october 30.\", df.iloc[302,5], df.iloc[302,6], (df.iloc[302,5]+df.iloc[302,6])/2) \n",
    "printTemp('movember 1.', df.iloc[304,5], df.iloc[304,6], (df.iloc[304,5]+df.iloc[304,6])/2)\n",
    "printTemp('november 22.', df.iloc[325,5], df.iloc[325,6], (df.iloc[325,5]+df.iloc[325,6])/2)"
   ]
  },
  {
   "cell_type": "code",
   "execution_count": null,
   "metadata": {},
   "outputs": [],
   "source": []
  }
 ],
 "metadata": {
  "kernelspec": {
   "display_name": "Python 3",
   "language": "python",
   "name": "python3"
  },
  "language_info": {
   "codemirror_mode": {
    "name": "ipython",
    "version": 3
   },
   "file_extension": ".py",
   "mimetype": "text/x-python",
   "name": "python",
   "nbconvert_exporter": "python",
   "pygments_lexer": "ipython3",
   "version": "3.7.3"
  }
 },
 "nbformat": 4,
 "nbformat_minor": 2
}
